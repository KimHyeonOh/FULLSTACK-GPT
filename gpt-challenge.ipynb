{
 "cells": [
  {
   "cell_type": "code",
   "execution_count": 1,
   "metadata": {},
   "outputs": [
    {
     "ename": "SyntaxError",
     "evalue": "invalid syntax. Perhaps you forgot a comma? (66213565.py, line 27)",
     "output_type": "error",
     "traceback": [
      "\u001b[1;36m  Cell \u001b[1;32mIn[1], line 27\u001b[1;36m\u001b[0m\n\u001b[1;33m    model_name=\"gpt-3.5-turbo\"\u001b[0m\n\u001b[1;37m               ^\u001b[0m\n\u001b[1;31mSyntaxError\u001b[0m\u001b[1;31m:\u001b[0m invalid syntax. Perhaps you forgot a comma?\n"
     ]
    }
   ],
   "source": [
    "\"\"\"\n",
    "Challenge #1\n",
    "프로그래밍 언어에 대한 시를 쓰는 데 특화된 체인과 시를 설명하는 데 특화된 체인을 만드세요.\n",
    "LCEL을 사용해 두 체인을 서로 연결합니다.\n",
    "최종 체인은 프로그래밍 언어의 이름을 받고 시와 그 설명으로 응답해야 합니다.\n",
    "모델로는 \"gpt-3.5-turbo\"를 사용하고 프롬프트에는 ChatPromptTemplate을 사용하세요.\n",
    "\n",
    "Hint.\n",
    "환경 세팅은 강의 내용 중 #2 INTRODUCTION 부분을 천천히 따라하면 쉽게 구축할 수 있습니다.\n",
    "환경 세팅을 마친 후, 아래의 과정으로 진행하면 챌린지를 해결할 수 있습니다.\n",
    "특정 프로그래밍 언어에 대한 시를 생성하도록 하는 프롬프트 템플릿을 만들고 해당하는 체인을 구축합니다.\n",
    "특정 시에 대한 설명을 생성하도록 하는 프롬프트 템플릿을 만들고 해당하는 체인을 구축합니다.\n",
    "프롬프트 템플릿은 강의에서 다루었던 ChatPromptTemplate 를 활용하세요.\n",
    "LCEL의 기본 사용법이 헷갈리는 경우 공식문서의 LCEL Get started 를 참고하세요.\n",
    "두 개의 체인을 LCEL을 사용하여 연결 합니다.\n",
    "여러 개의 체인을 다루는 방법에 대해서는 Multiple Chains 를 참고하세요.\n",
    "답변이 생성되는 과정을 실시간으로 확인하기 위해 ChatOpenAI 모델에 streaming 옵션과 StreamingStdOutCallbackHandler을 활용하세요.\n",
    "\"\"\"\n",
    "from langchain.llms import OpenAI\n",
    "from langchain.chat_models import ChatOpenAI\n",
    "from langchain.prompts import ChatPromptTemplate\n",
    "from langchain.callbacks import StreamingStdOutCallbackHandler\n",
    "\n",
    "#llm = OpenAI(model_name=\"gpt-3.5-turbo-1106\")\n",
    "\n",
    "llm = ChatOpenAI(\n",
    "    model_name=\"gpt-3.5-turbo\",\n",
    "    temperature= 0.1,\n",
    "    streaming=True,\n",
    "    callbacks=[\n",
    "        StreamingStdOutCallbackHandler(),\n",
    "    ],\n",
    ")\n",
    "\n",
    "poem_prompt = ChatPromptTemplate.from_messages(\n",
    "    [\n",
    "        (\"system\",\n",
    "         \"너는 프로그래밍 언어에 대한 시를 쓰는 데 특화되어 있어.\"),\n",
    "         (\"human\",\n",
    "          \"나는 {programming_language}에 관한 시를 원해.\"),\n",
    "    ]\n",
    ")\n",
    "\n",
    "poem_chain = poem_prompt | llm\n",
    "\n",
    "explain_prompt = ChatPromptTemplate.from_messages(\n",
    "    [\n",
    "        (\"system\",\"너는 시를 설명하는 데 특화되어있어.\"),\n",
    "        (\"human\", \"{poem}\")\n",
    "    ]\n",
    ")\n",
    "\n",
    "explain_chain = explain_prompt | llm\n",
    "\n",
    "final_chain = {\"poem\": poem_prompt} | explain_chain\n",
    "\n",
    "final_chain.invoke({\"programming_language\":\"python\"})\n",
    "\n",
    "print(final_chain)"
   ]
  }
 ],
 "metadata": {
  "kernelspec": {
   "display_name": "env",
   "language": "python",
   "name": "python3"
  },
  "language_info": {
   "codemirror_mode": {
    "name": "ipython",
    "version": 3
   },
   "file_extension": ".py",
   "mimetype": "text/x-python",
   "name": "python",
   "nbconvert_exporter": "python",
   "pygments_lexer": "ipython3",
   "version": "3.10.11"
  },
  "orig_nbformat": 4
 },
 "nbformat": 4,
 "nbformat_minor": 2
}
