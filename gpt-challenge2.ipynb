{
 "cells": [
  {
   "cell_type": "code",
   "execution_count": 12,
   "metadata": {},
   "outputs": [],
   "source": [
    "\"\"\"\n",
    "Challenge #2\n",
    "영화 이름을 가지고 감독, 주요 출연진, 예산, 흥행 수익, 영화의 장르, 간단한 시놉시스 등 영화에 대한 정보로 답장하는 체인을 만드세요.\n",
    "LLM은 항상 동일한 형식을 사용하여 응답해야 하며, 이를 위해서는 원하는 출력의 예시를 LLM에 제공해야 합니다.\n",
    "예제를 제공하려면 FewShotPromptTemplate 또는 FewShotChatMessagePromptTemplate을 사용하세요.\n",
    "\n",
    "\n",
    "Hint.\n",
    "LLM이 답변 형식을 학습하도록 다양한 영화에 대한 예시를 만들어야 합니다.\n",
    "예시는 과제의 요구조건을 만족시키려면 감독, 주요 출연진, 예산, 흥행 수익, 장르, 간략한 줄거리 가 포함되어야 합니다. LLM이 답변 형식을 효과적으로 학습하려면 모든 예시는 동일한 형식을 유지해야 합니다.\n",
    "\"\"\"\n",
    "from langchain.llms import OpenAI\n",
    "from langchain.chat_models import ChatOpenAI\n",
    "from langchain.prompts import ChatPromptTemplate, FewShotPromptTemplate, PromptTemplate\n",
    "from langchain.callbacks import StreamingStdOutCallbackHandler\n",
    "from langchain.chains import LLMChain\n",
    "\n",
    "llm = ChatOpenAI(\n",
    "    model_name=\"gpt-3.5-turbo\",\n",
    "    temperature= 0.1,\n",
    "    streaming=False,\n",
    "    callbacks=[\n",
    "        StreamingStdOutCallbackHandler(),\n",
    "    ],\n",
    ")"
   ]
  },
  {
   "cell_type": "code",
   "execution_count": 9,
   "metadata": {},
   "outputs": [],
   "source": [
    "#예시 데이터 구성\n",
    "examples = [\n",
    "    {\n",
    "        \"input\": \"기생충\",\n",
    "        \"output\": \"\"\"영화 제목: 기생충\n",
    "감독: 봉준호\n",
    "주요 출연진: 송강호, 이선균, 조여정, 최우식, 박소담\n",
    "예산: 약 135억 원\n",
    "흥행 수익: 약 $263 million\n",
    "장르: Drama, Thriller\n",
    "간략한 줄거리: 가난한 가족이 부잣집에 취업하며 벌어지는 계층 간의 갈등과 비극을 그린 영화입니다.\"\"\"\n",
    "    },\n",
    "    {\n",
    "        \"input\": \"The Dark Knight\",\n",
    "        \"output\": \"\"\"영화 제목: The Dark Knight\n",
    "감독: Christopher Nolan\n",
    "주요 출연진: Christian Bale, Heath Ledger, Aaron Eckhart, Michael Caine\n",
    "예산: $185 million\n",
    "흥행 수익: $1.005 billion\n",
    "장르: Action, Crime, Drama\n",
    "간략한 줄거리: 배트맨이 고담시를 위협하는 조커와 맞서며 정의와 희생의 의미를 탐구하는 이야기입니다.\"\"\"\n",
    "    },\n",
    "    {\n",
    "        \"input\": \"세 얼간이\",\n",
    "        \"output\": \"\"\"영화 제목: 세 얼간이\n",
    "감독: 라지쿠마르 히라니\n",
    "주요 출연진: 아미르 칸, 카리나 카푸르, 마드하반, 샤르만 조시\n",
    "예산: 약 ₹550 million (약 $7 million)\n",
    "흥행 수익: 약 ₹4.6 billion (약 $90 million)\n",
    "장르: Comedy, Drama\n",
    "간략한 줄거리: 세 친구가 엄격한 공과대학에서 학문, 우정, 사랑을 통해 삶의 진정한 의미를 찾아가는 유쾌하고 감동적인 이야기입니다.\"\"\"\n",
    "    },\n",
    "]"
   ]
  },
  {
   "cell_type": "code",
   "execution_count": 11,
   "metadata": {},
   "outputs": [],
   "source": [
    "#FewShotPromptTemplate 생성\n",
    "example_prompt = PromptTemplate(\n",
    "    input_variables=[\"input\", \"output\"],\n",
    "    template=\"\"\"영화 제목: {input}\n",
    "{output}\"\"\"\n",
    ")\n",
    "\n",
    "\n",
    "few_shot_prompt = FewShotPromptTemplate(\n",
    "    examples=examples,\n",
    "    example_prompt=example_prompt,\n",
    "    prefix=\"영화 제목을 입력하면 해당 영화에 대한 정보를 제공해드립니다. 다음 형식을 유지하세요:\\n\",\n",
    "    suffix=\"영화 제목: {input}\",\n",
    "    input_variables=[\"input\"]\n",
    ")"
   ]
  },
  {
   "cell_type": "code",
   "execution_count": 14,
   "metadata": {},
   "outputs": [
    {
     "name": "stdout",
     "output_type": "stream",
     "text": [
      "영화 제목: 7번방의 선물\n",
      "감독: 이환경\n",
      "주요 출연진: 류승룡, 박신혜, 오달수, 박원상\n",
      "예산: 약 50억 원\n",
      "흥행 수익: 약 $91 million\n",
      "장르: Drama, Comedy\n",
      "간략한 줄거리: 잘못된 혐의로 가혹한 형벌을 받게 된 소년들이 함께하는 감동적인 우정과 성장을 그린 영화입니다.\n"
     ]
    }
   ],
   "source": [
    "# LLMChain 생성\n",
    "movie_chain = LLMChain(llm=llm, prompt=few_shot_prompt)\n",
    "\n",
    "# 영화 정보 생성\n",
    "def get_movie_info(movie_title):\n",
    "    result = movie_chain.run(movie_title)\n",
    "    return result\n",
    "\n",
    "# 예시 실행\n",
    "movie_title = \"7번방의 선물\"\n",
    "movie_info = get_movie_info(movie_title)\n",
    "\n",
    "#\n",
    "print(movie_info)"
   ]
  }
 ],
 "metadata": {
  "kernelspec": {
   "display_name": "env",
   "language": "python",
   "name": "python3"
  },
  "language_info": {
   "codemirror_mode": {
    "name": "ipython",
    "version": 3
   },
   "file_extension": ".py",
   "mimetype": "text/x-python",
   "name": "python",
   "nbconvert_exporter": "python",
   "pygments_lexer": "ipython3",
   "version": "3.10.11"
  },
  "orig_nbformat": 4
 },
 "nbformat": 4,
 "nbformat_minor": 2
}
